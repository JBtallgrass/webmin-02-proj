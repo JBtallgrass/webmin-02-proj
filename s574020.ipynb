{
 "cells": [
  {
   "cell_type": "markdown",
   "metadata": {},
   "source": [
    "# Name: \n",
    "## Jason Ballard"
   ]
  },
  {
   "cell_type": "markdown",
   "metadata": {},
   "source": [
    "10. Create a new Jupyter Notebook (the name of the notebook should be your S number). Add a Markdown cell that contains your name. Add a Code cell and write Python that uses loops to draw the following pattern:\n",
    "\n",
    "```\n",
    "*      *\n",
    "**    **\n",
    "***  ***\n",
    "********\n",
    "```\n",
    "Make sure to add and submit both the new notebook and the changes to this notebook for this assignment."
   ]
  },
  {
   "cell_type": "code",
   "execution_count": 4,
   "metadata": {},
   "outputs": [
    {
     "name": "stdout",
     "output_type": "stream",
     "text": [
      "*      *\n",
      "**    **\n",
      "***  ***\n",
      "********\n"
     ]
    }
   ],
   "source": [
    "# Number of rows\n",
    "rows = 4\n",
    "# create a nested loop for the rows- use variable name j for the nested loop\n",
    "for i in range(rows):\n",
    "    # Print left stars\n",
    "    for j in range(i + 1):\n",
    "        print(\"*\", end=\"\")\n",
    "        \n",
    "    # Print spaces\n",
    "    for j in range(2 * (rows - i - 1)):\n",
    "        print(\" \", end=\"\")\n",
    "        \n",
    "    # Print right stars\n",
    "    for j in range(i + 1):\n",
    "        print(\"*\", end=\"\")\n",
    "        \n",
    "    # Move to next line\n",
    "    print()"
   ]
  },
  {
   "cell_type": "code",
   "execution_count": 5,
   "metadata": {},
   "outputs": [
    {
     "name": "stdout",
     "output_type": "stream",
     "text": [
      "c:\\Users\\balla\\documents\\csis-dspython\\webmin-02-proj\n"
     ]
    }
   ],
   "source": [
    "import os\n",
    "os.system('jupyter nbconvert --to html s574020.ipynb')\n",
    "\n",
    "print(os.getcwd())\n"
   ]
  }
 ],
 "metadata": {
  "kernelspec": {
   "display_name": ".venv",
   "language": "python",
   "name": "python3"
  },
  "language_info": {
   "codemirror_mode": {
    "name": "ipython",
    "version": 3
   },
   "file_extension": ".py",
   "mimetype": "text/x-python",
   "name": "python",
   "nbconvert_exporter": "python",
   "pygments_lexer": "ipython3",
   "version": "3.13.0"
  }
 },
 "nbformat": 4,
 "nbformat_minor": 2
}
