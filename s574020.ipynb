{
 "cells": [
  {
   "cell_type": "markdown",
   "metadata": {},
   "source": [
    "# Name: \n",
    "## Jason Ballard"
   ]
  },
  {
   "cell_type": "code",
   "execution_count": 1,
   "metadata": {},
   "outputs": [
    {
     "name": "stdout",
     "output_type": "stream",
     "text": [
      "*      *\n",
      "**    **\n",
      "***  ***\n",
      "********\n"
     ]
    }
   ],
   "source": [
    "# Number of rows\n",
    "rows = 4\n",
    "\n",
    "for i in range(rows):\n",
    "    # Print left stars\n",
    "    for j in range(i + 1):\n",
    "        print(\"*\", end=\"\")\n",
    "        \n",
    "    # Print spaces\n",
    "    for j in range(2 * (rows - i - 1)):\n",
    "        print(\" \", end=\"\")\n",
    "        \n",
    "    # Print right stars\n",
    "    for j in range(i + 1):\n",
    "        print(\"*\", end=\"\")\n",
    "        \n",
    "    # Move to next line\n",
    "    print()"
   ]
  }
 ],
 "metadata": {
  "kernelspec": {
   "display_name": ".venv",
   "language": "python",
   "name": "python3"
  },
  "language_info": {
   "codemirror_mode": {
    "name": "ipython",
    "version": 3
   },
   "file_extension": ".py",
   "mimetype": "text/x-python",
   "name": "python",
   "nbconvert_exporter": "python",
   "pygments_lexer": "ipython3",
   "version": "3.13.0"
  }
 },
 "nbformat": 4,
 "nbformat_minor": 2
}
