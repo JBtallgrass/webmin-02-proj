{
 "cells": [
  {
   "cell_type": "markdown",
   "metadata": {},
   "source": [
    "# Web Mining and Applied NLP (44-620)\n",
    "\n",
    "## Python Notebooks, Basics, and Data Structures\n",
    "\n",
    "### Student Name: Jason Ballard\n",
    "\n",
    "Perform the tasks described in the Markdown cells below.  When you have completed the assignment make sure your code cells have all been run (and have output beneath them) and ensure you have committed and pushed ALL of your changes to your assignment repository.\n",
    "\n",
    "Every question that requires you to write code will have a code cell underneath it; you may either write your entire solution in that cell or write it in a python file (`.py`), then import and run the appropriate code to answer the question.\n",
    "\n",
    "Do not use external modules (`math`, etc) for this assignment unless you are explicitly instructed to, though you may use built in python functions (`min`, `max`, etc) as you wish."
   ]
  },
  {
   "cell_type": "markdown",
   "metadata": {},
   "source": [
    "1. Modify the Markdown cell above to put your name after \"Student Name:\"; you will be expected to do this in all assignments presented in this format for this class."
   ]
  },
  {
   "cell_type": "markdown",
   "metadata": {},
   "source": [
    "2. Write code that divides any two numbers, stores the result in a variable, and prints the result with an appropriate label."
   ]
  },
  {
   "cell_type": "code",
   "execution_count": 25,
   "metadata": {},
   "outputs": [
    {
     "name": "stdout",
     "output_type": "stream",
     "text": [
      "The result of dividing 10 by 2 is 5.0\n"
     ]
    }
   ],
   "source": [
    "# Divide two numbers\n",
    "numerator = 10\n",
    "denominator = 2\n",
    "result = numerator / denominator\n",
    "\n",
    "# Print the result with an appropriate label\n",
    "print(f\"The result of dividing {numerator} by {denominator} is {result}\")"
   ]
  },
  {
   "cell_type": "markdown",
   "metadata": {},
   "source": [
    "3. Using loops (and potentially conditionals), write Python code that prints the factorial of each integer from 1 through 10 (which you can store in a variable if you want). The factorial of an integer is the product of all of the integers of 1 through the number. Print the result with an appropriate label."
   ]
  },
  {
   "cell_type": "code",
   "execution_count": 26,
   "metadata": {},
   "outputs": [
    {
     "name": "stdout",
     "output_type": "stream",
     "text": [
      "Factorial calculations from 1 to 10\n",
      "----------------------------------------\n",
      "1! = 1\n",
      "2! = 2\n",
      "3! = 6\n",
      "4! = 24\n",
      "5! = 120\n",
      "6! = 720\n",
      "7! = 5,040\n",
      "8! = 40,320\n",
      "9! = 362,880\n",
      "10! = 3,628,800\n"
     ]
    }
   ],
   "source": [
    "def calculate_factorial(n):\n",
    "    \"\"\"Calculate the factorial of a given number n.\"\"\"\n",
    "    if n < 0:\n",
    "        return None\n",
    "    result = 1\n",
    "    for i in range(1, n + 1):\n",
    "        result *= i\n",
    "    return result\n",
    "\n",
    "# Set the upper limit for factorial calculations\n",
    "upper_limit = 10\n",
    "\n",
    "# Print header\n",
    "print(\"Factorial calculations from 1 to\", upper_limit)\n",
    "print(\"-\" * 40)\n",
    "\n",
    "# Calculate and print factorial for each number\n",
    "for num in range(1, upper_limit + 1):\n",
    "    factorial = calculate_factorial(num)\n",
    "    if factorial is not None:\n",
    "        print(f\"{num}! = {factorial:,}\")\n",
    "    else:\n",
    "        print(f\"Factorial of {num} cannot be calculated\")"
   ]
  },
  {
   "cell_type": "markdown",
   "metadata": {},
   "source": [
    "4. Write a python function that takes a single parameter and calculates and returns the average (mean) of the values in the parameter (which you may assume is iterable).  Show that your function works by printing the result of calling the function on the list in the cell below."
   ]
  },
  {
   "cell_type": "code",
   "execution_count": 27,
   "metadata": {},
   "outputs": [
    {
     "name": "stdout",
     "output_type": "stream",
     "text": [
      "The mean of [1, -1, 2, -2, 3, -3, 4, -4] is 0.0\n"
     ]
    }
   ],
   "source": [
    "def calculate_mean(values):\n",
    "    \"\"\"Calculate the mean of an iterable of numbers\"\"\"\n",
    "    total = sum(values)\n",
    "    count = len(values)\n",
    "    if count == 0:\n",
    "        return None  # Handle empty iterable case\n",
    "    return total / count\n",
    "\n",
    "# Test with the provided list\n",
    "testlist = [1,-1,2,-2,3,-3,4,-4]\n",
    "result = calculate_mean(testlist)\n",
    "print(f\"The mean of {testlist} is {result}\")\n"
   ]
  },
  {
   "cell_type": "markdown",
   "metadata": {},
   "source": [
    "5. Using your mean function above, write a function that calculates the variance of the list of numbers (see https://en.wikipedia.org/wiki/Variance for more information on the formula). In short:\n",
    "* subtract the mean of the elements in the list from every element in the list; store these values in a new list\n",
    "* square every element in the new list and sum the elements together\n",
    "* divide the resulting number by N (where N is the length of the original list)\n",
    "\n",
    "Show the result of calling your function in the lists in the code cell. You must use one or more list comprehensions or map/filter in your code.\n"
   ]
  },
  {
   "cell_type": "code",
   "execution_count": 28,
   "metadata": {},
   "outputs": [
    {
     "name": "stdout",
     "output_type": "stream",
     "text": [
      "The variance of [0.567, -1.48, -0.557, -1.47, 0.734, 1.05, 0.448, 0.257, -1.97, -1.46] is 1.13973309\n",
      "The variance of [-1.78, 0.264, 1.16, 0.908, 1.78, 1.08, 1.05, -0.0463, 1.52, 0.535] is 0.9257232841\n"
     ]
    }
   ],
   "source": [
    "list1 = [ 5.670e-1, -1.480e+0, -5.570e-1, -1.470e+0, 7.340e-1, 1.050e+0, 4.480e-1, 2.570e-1, -1.970e+0, -1.460e+0]\n",
    "list2 = [-1.780e+0, 2.640e-1, 1.160e+0, 9.080e-1, 1.780e+0, 1.080e+0, 1.050e+0, -4.630e-2, 1.520e+0, 5.350e-1]\n",
    "# the variances of both lists should be relatively close to 1 (off by less than .15)\n",
    "\n",
    "def calculate_variance(values):\n",
    "    \"\"\"Calculate the variance of an iterable of numbers\"\"\"\n",
    "    if len(values) == 0:\n",
    "        return None\n",
    "        \n",
    "    mean = calculate_mean(values)\n",
    "    # List comprehension to subtract mean from each value and square the result\n",
    "    squared_differences = [(x - mean) ** 2 for x in values]\n",
    "    # Calculate variance by taking mean of squared differences\n",
    "    variance = sum(squared_differences) / len(values)\n",
    "    return variance\n",
    "\n",
    "#Calculate the variance of the lists\n",
    "var1 = calculate_variance(list1)\n",
    "var2 = calculate_variance(list2)\n",
    "\n",
    "# Test with the provided list\n",
    "print(f\"The variance of {list1} is {var1}\")\n",
    "print(f\"The variance of {list2} is {var2}\")"
   ]
  },
  {
   "cell_type": "markdown",
   "metadata": {},
   "source": [
    "6. Create a list with at least 15 elements in it. Use list slicing to print the following:\n",
    "* The first 5 elements of the list\n",
    "* The last 5 elements of the list\n",
    "* The list reversed (hint, show the entire list with a stride of -1)\n",
    "* Every second element in the list\n",
    "* Every third element in the list (stride of 3)"
   ]
  },
  {
   "cell_type": "code",
   "execution_count": 29,
   "metadata": {},
   "outputs": [
    {
     "name": "stdout",
     "output_type": "stream",
     "text": [
      "First 5 elements: [3, 7, 12, 15, 22]\n",
      "Last 5 elements: [55, 63, 71, 82, 90]\n",
      "List reversed: [90, 82, 71, 63, 55, 50, 48, 42, 35, 31, 22, 15, 12, 7, 3]\n",
      "Every second element: [3, 12, 22, 35, 48, 55, 71, 90]\n",
      "Every third element: [3, 15, 35, 50, 71]\n"
     ]
    }
   ],
   "source": [
    "# Create a list with at least 15 elements\n",
    "my_list = [3, 7, 12, 15, 22, 31, 35, 42, 48, 50, 55, 63, 71, 82, 90]\n",
    "\n",
    "# First 5 elements\n",
    "print(\"First 5 elements:\", my_list[:5])\n",
    "\n",
    "# Last 5 elements\n",
    "print(\"Last 5 elements:\", my_list[-5:])\n",
    "\n",
    "# List reversed\n",
    "print(\"List reversed:\", my_list[::-1])\n",
    "\n",
    "# Every second element\n",
    "print(\"Every second element:\", my_list[::2])\n",
    "\n",
    "# Every third element\n",
    "print(\"Every third element:\", my_list[::3])"
   ]
  },
  {
   "cell_type": "markdown",
   "metadata": {},
   "source": [
    "7. Build a dictionary that contains the following information about this class (with appropriate names as keys):\n",
    "* The name\n",
    "* The course number\n",
    "* The semester/term in which you are taking this course\n",
    "* The number of credit hours this course counts for\n",
    "* A list of the course learning objectives\n",
    "\n",
    "The majority of this information can be found in the syllabus. Print the dictionary."
   ]
  },
  {
   "cell_type": "code",
   "execution_count": 30,
   "metadata": {},
   "outputs": [
    {
     "name": "stdout",
     "output_type": "stream",
     "text": [
      "{'name': 'Web Mining & Applied Natural Language Processing (NLP)', 'course_number': 'CSIS 44-620 80/81', 'semester': 'Fall 2024, Block 2', 'credit_hours': 3, 'learning_objectives': ['L01. Manage Python libraries and packages.L02. Interact with Hosted Version Control Systems (e.g., Git and GitHub)L03. Programmatically obtain and transform data from web-based APIs and HTML pages into a usable form.L04. Describe the steps in a basic Natural Language Processing PipelineL05. Use preexisting tools and software libraries to perform some Natural Language Processing, such as sentiment analysis.L06. Explain results and conclusions drawn from the visualized information.']}\n"
     ]
    }
   ],
   "source": [
    "course_info = {\n",
    "   \"name\": \"Web Mining & Applied Natural Language Processing (NLP)\",\n",
    "   \"course_number\": \"CSIS 44-620 80/81\",\n",
    "   \"semester\": \"Fall 2024, Block 2\",\n",
    "   \"credit_hours\": 3,\n",
    "   \"learning_objectives\": [\n",
    "       \"L01. Manage Python libraries and packages.\"\n",
    "       \"L02. Interact with Hosted Version Control Systems (e.g., Git and GitHub)\"\n",
    "       \"L03. Programmatically obtain and transform data from web-based APIs and HTML pages into a usable form.\"\n",
    "       \"L04. Describe the steps in a basic Natural Language Processing Pipeline\"\n",
    "       \"L05. Use preexisting tools and software libraries to perform some Natural Language Processing, such as sentiment analysis.\" \n",
    "       \"L06. Explain results and conclusions drawn from the visualized information.\"\n",
    "   ]\n",
    "}\n",
    "\n",
    "print(course_info)"
   ]
  },
  {
   "cell_type": "markdown",
   "metadata": {},
   "source": [
    "8.  Given the dictionary defined in the code cell below, print the list of level 3 spells the character has."
   ]
  },
  {
   "cell_type": "code",
   "execution_count": 31,
   "metadata": {},
   "outputs": [
    {
     "name": "stdout",
     "output_type": "stream",
     "text": [
      "Kitab's level 3 spells: ['Mass Healing Word', 'Nondetection', 'Revivify', 'Feign Death', 'Speak with Dead']\n"
     ]
    }
   ],
   "source": [
    "player_character = {'name': 'Kitab',\n",
    "                   'class': [('Cleric: Knowledge', 7)],\n",
    "                   'spells': {'cantrip': ['Guidance', 'Light', 'Thaumaturgy', 'Toll the Dead', 'Word of Radiance'],\n",
    "                             'level 1': ['Command', 'Detect Magic', 'Healing Word', 'Identify', 'Sleep'],\n",
    "                             'level 2': ['Augury', 'Calm Emotions', 'Command', 'Invisibility', 'Lesser Restoration'],\n",
    "                             'level 3': ['Mass Healing Word', 'Nondetection', 'Revivify', 'Feign Death', 'Speak with Dead'],\n",
    "                             'level 4': ['Banishment', 'Confusion']}\n",
    "                   }\n",
    "\n",
    "print(f\"Kitab's level 3 spells: {player_character['spells']['level 3']}\")"
   ]
  },
  {
   "cell_type": "markdown",
   "metadata": {},
   "source": [
    "9. Write code to determine the number of unique elements in the list below.  You MUST use a set in finding your solution.  Print the number of unique values in the list with an appropriate label."
   ]
  },
  {
   "cell_type": "code",
   "execution_count": 32,
   "metadata": {},
   "outputs": [
    {
     "name": "stdout",
     "output_type": "stream",
     "text": [
      "Number of unique values in the list: 12\n",
      "The unique values are: {0, 1, 5, 6, 7, 8, 9, 10, 11, 12, 13, 15}\n"
     ]
    }
   ],
   "source": [
    "values = [10, 11, 10, 8, 1, 12, 0, 1, 6, 5, 5, 13, 6, 15, 0, 0, 1, 1, 9, 7]\n",
    "\n",
    "# Convert list to set to get unique values\n",
    "unique_values = set(values)\n",
    "\n",
    "# Get count of unique values\n",
    "num_unique = len(unique_values)\n",
    "\n",
    "print(f\"Number of unique values in the list: {num_unique}\")\n",
    "print(f\"The unique values are: {unique_values}\")"
   ]
  },
  {
   "cell_type": "markdown",
   "metadata": {},
   "source": [
    "10. Create a new Jupyter Notebook (the name of the notebook should be your S number). Add a Markdown cell that contains your name. Add a Code cell and write Python that uses loops to draw the following pattern:\n",
    "\n",
    "```\n",
    "*      *\n",
    "**    **\n",
    "***  ***\n",
    "********\n",
    "```\n",
    "Make sure to add and submit both the new notebook and the changes to this notebook for this assignment."
   ]
  }
 ],
 "metadata": {
  "kernelspec": {
   "display_name": ".venv",
   "language": "python",
   "name": "python3"
  },
  "language_info": {
   "codemirror_mode": {
    "name": "ipython",
    "version": 3
   },
   "file_extension": ".py",
   "mimetype": "text/x-python",
   "name": "python",
   "nbconvert_exporter": "python",
   "pygments_lexer": "ipython3",
   "version": "3.13.0"
  }
 },
 "nbformat": 4,
 "nbformat_minor": 4
}
